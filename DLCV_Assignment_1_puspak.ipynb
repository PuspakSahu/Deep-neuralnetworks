{
 "cells": [
  {
   "cell_type": "markdown",
   "metadata": {
    "colab_type": "text",
    "id": "KE1Rct79pdT1"
   },
   "source": [
    "# DLCV Assignment 1\n",
    "\n",
    "**Due Date: 17/02/2023 11:59PM IST**\n",
    "\n",
    "**Name:Puspa Sahu**\n",
    "\n",
    "**Sr. No.: 21676**\n",
    "\n",
    "\n",
    "In this assignment, we will cover the following topics:\n",
    "\n",
    "1) Training a simple Linear Model \n",
    "\n",
    "2) Implementing Modules with Backprop functionality\n",
    "\n",
    "3) Implementing Convolution Module on Numpy\n",
    "\n",
    "\n",
    "It is crucial to get down to the nitty gritty of the code to implement all of these. No external packages (like caffe,pytorch etc), which directly give functions for these steps, are to be used. "
   ]
  },
  {
   "cell_type": "code",
   "execution_count": null,
   "metadata": {},
   "outputs": [],
   "source": []
  },
  {
   "cell_type": "markdown",
   "metadata": {
    "colab_type": "text",
    "id": "Emb3Bo_NpdUl"
   },
   "source": [
    "# Training a simple Linear Model\n",
    "\n",
    "In this section, you will write the code to train a Linear Model. The goal is to classify an input $X_i$ of size $n$ into one of $m$ classes. For this, you need to consider the following:\n",
    "\n",
    "1)  **Weight Matrix** $W_{n\\times m}$: The Weights are multipled with the input $X_i$ (vector of size $n$), to find $m$ scores $S_m$ for the $m$ classes.\n",
    "\n",
    "2)  **The Loss function**:   \n",
    "  * The Cross Entropy Loss: By interpreting the scores as unnormalized log probabilities for each class, this loss tries to measure dissatisfaction with the scores in terms of the log probability of the right class:\n",
    "\n",
    "$$\n",
    "L_i = -\\log\\left(\\frac{e^{f_{y_i}}}{ \\sum_j e^{f_j} }\\right) \\hspace{0.5in} \\text{or equivalently} \\hspace{0.5in} L_i = -f_{y_i} + \\log\\sum_j e^{f_j}\n",
    "$$\n",
    "\n",
    "where $f_{ y_i }$ is the $y_i$-th element of the output of $W^T  X_i$\n",
    "\n",
    "3) **A Regularization term**: In addition to the loss, you need a Regularization term to lead to a more distributed (in case of $L_2$) or sparse (in case of $L_1$) learning of the weights. For example, with $L_2$ regularization, the loss has the following additional term:\n",
    "\n",
    "$$\n",
    "R(W) = \\sum_k\\sum_l W_{k,l}^2  \n",
    "$$\n",
    "\n",
    "Thus the total loss has the form:\n",
    "$$\n",
    "L =  \\underbrace{ \\frac{1}{N} \\sum_i L_i }_\\text{data loss} + \\underbrace{ \\lambda R(W) }_\\text{regularization loss} \\\\\\\\\n",
    "$$\n",
    "\n",
    "4) **An Optimization Procedure**: This refers to the process which tweaks the weight Matrix $W_{n\\times m}$ to reduce the loss function $L$. In our case, this refers to Mini-batch Gradient Descent algorithm. We adjust the weights $W_{n\\times m}$, based on the gradient of the loss $L$ w.r.t. $W_{n\\times m}$. This leads to:\n",
    "$$\n",
    "W_{t+1} = W_{t} - \\alpha \\frac{\\partial L}{\\partial W},\n",
    "$$\n",
    "where $\\alpha$ is the learning rate. Additionally, with \"mini-batch\" gradient descent, instead of finding loss over the whole dataset, we use a small sample $B$ of the training data to make each learning step. Hence,\n",
    "$$\n",
    "W_{t+1} = W_{t} - \\alpha \\frac{\\partial \\sum_{i \\in B}{L_{x_i}}}{\\partial W},\n",
    "$$\n",
    "where $|B|$ is the batch size."
   ]
  },
  {
   "cell_type": "markdown",
   "metadata": {
    "colab_type": "text",
    "id": "I2neGQlEpdVD"
   },
   "source": [
    "# Question 1\n",
    "\n",
    "Train a **Single-Layer Classifier** for the MNIST dataset. \n",
    "* Use Softmax-Loss.\n",
    "* Maintain a train-validation split of the original training set for finding the right value of $\\lambda$ for the regularization, and to check for over-fitting.\n",
    "* Finally, evaluate the classification performance on the test-set.\n"
   ]
  },
  {
   "cell_type": "code",
   "execution_count": 234,
   "metadata": {},
   "outputs": [
    {
     "name": "stdout",
     "output_type": "stream",
     "text": [
      "(60000, 784)\n",
      "(60000,)\n",
      "(10000, 784)\n",
      "(10000,)\n"
     ]
    },
    {
     "data": {
      "image/png": "[encoded data removed]",
      "text/plain": [
       "<Figure size 640x480 with 1 Axes>"
      ]
     },
     "metadata": {},
     "output_type": "display_data"
    }
   ],
   "source": [
    "import struct\n",
    "import matplotlib.pyplot as plt\n",
    "import pandas as pd\n",
    "import math\n",
    "import numpy as np\n",
    "\n",
    "\n",
    "\n",
    "with open('trainimagemnist','rb') as f:\n",
    "    magic, size = struct.unpack(\">II\", f.read(8))\n",
    "    nrows, ncols = struct.unpack(\">II\", f.read(8))\n",
    "    train_image = np.fromfile(f, dtype=np.dtype(np.uint8).newbyteorder('>'))\n",
    "    train_image = train_image.reshape((size,-1))\n",
    "    plt.imshow(train_image[2].reshape((28,28)))\n",
    "    print(train_image.shape)\n",
    "    \n",
    "with open('trainlabelmnist','rb') as f:\n",
    "    magic, size = struct.unpack(\">II\", f.read(8))\n",
    "    train_label=np.fromfile(f, dtype=np.dtype(np.uint8).newbyteorder('>'))\n",
    "    print(train_label.shape)    \n",
    "with open('testimagemnist','rb') as f:\n",
    "    magic, size = struct.unpack(\">II\", f.read(8))\n",
    "    nrows, ncols = struct.unpack(\">II\", f.read(8))\n",
    "    test_image = np.fromfile(f, dtype=np.dtype(np.uint8).newbyteorder('>'))\n",
    "    test_image = test_image.reshape((size,-1))\n",
    "    print(test_image.shape)    \n",
    "with open('testlabelmnist','rb') as f:\n",
    "    magic, size = struct.unpack(\">II\", f.read(8))\n",
    "    test_label=np.fromfile(f, dtype=np.dtype(np.uint8).newbyteorder('>'))\n",
    "    print(test_label.shape)"
   ]
  },
  {
   "cell_type": "code",
   "execution_count": 235,
   "metadata": {
    "colab": {},
    "colab_type": "code",
    "id": "HVMwqheRpdXo"
   },
   "outputs": [],
   "source": [
    "# Define the class for a Single Layer Classifier\n",
    "class Single_layer_classifier():\n",
    "    \n",
    "    def __init__(self, input_size, output_size):\n",
    "        \n",
    "        ## WRITE CODE HERE\n",
    "        self.input_size=input_size\n",
    "        self.output_size=output_size\n",
    "        self.int_var=0.01\n",
    "        self.lmda=0.1\n",
    "        self.weights=np.random.normal(0,self.int_var,size=(input_size,output_size))\n",
    "        self.learning_parameter=0.00001\n",
    "        \n",
    "        # Give the instance a weight matrix, initialized randomly\n",
    "        # One possible strategy for a good initialization is Normal (0, σ) where σ = 1e-3.\n",
    "        # Try experimenting with different values of σ.\n",
    "        \n",
    "    # Define the forward function\n",
    "    def forward(self, input_x):\n",
    "        \n",
    "        input_x=input_x.reshape((784,1))\n",
    "        \n",
    "        scores=np.dot(self.weights.T,input_x)\n",
    "        \n",
    "        #standardising\n",
    "        #scores=scores-min(scores)/(max(scores)-min(scores))\n",
    "        scores=scores-np.mean(scores)/np.std(scores)\n",
    "        return scores\n",
    "    \n",
    "    # Similarly a backward function\n",
    "    # we define 2 backward functions (as Loss = L_data + L_reg, grad(Loss) = grad(L1) + grad(L2))\n",
    "    \n",
    "    def backward_Ldata(self, grad_from_loss,input_x):\n",
    "        \n",
    "        # this function returns a matrix of the same size as the weights, \n",
    "        # where each element is the partial derivative of the loss w.r.t. the corresponding element of W\n",
    "        \n",
    "        input_x=input_x.reshape((784,1))\n",
    "        \n",
    "        grad_from_loss=grad_from_loss.reshape((10,1))\n",
    "       \n",
    "        grad_matrix=np.matmul(input_x,grad_from_loss.T)\n",
    "        \n",
    "        \n",
    "        return grad_matrix\n",
    "        \n",
    "    def backward_Lreg(self):\n",
    "        \n",
    "        # this function returns a matrix of the same size as the weights, \n",
    "        # where each element is the partial derivative of the regularization-term\n",
    "        # w.r.t. the corresponding element of W\n",
    "        \n",
    "        ## WRITE CODE HERE\n",
    "        \n",
    "        grad_matrix=2*self.weights\n",
    "        #print(grad_matrix.shape)\n",
    "        \n",
    "        return grad_matrix\n",
    "    def backward(self,grad_mat1,grad_mat2):\n",
    "        \n",
    "        self.weights=self.weights - self.learning_parameter*(grad_mat1+self.lmda*grad_mat2)\n",
    "        "
   ]
  },
  {
   "cell_type": "code",
   "execution_count": 236,
   "metadata": {
    "colab": {},
    "colab_type": "code",
    "id": "BM3EhmY0pdYZ"
   },
   "outputs": [],
   "source": [
    "\n",
    "def loss_function(input_y,scores):\n",
    "\n",
    "    sm=np.exp(scores)/(sum(np.exp(scores)))\n",
    "\n",
    "    loss= -1*math.log(sm[input_y])\n",
    "    \n",
    "\n",
    "    return loss\n",
    "\n",
    "\n",
    "def loss_backward(loss,scores,input_y):\n",
    "    # This part deals with the gradient of the loss w.r.t the output of network\n",
    "    # for example, in case of softmax loss(-log(q_c)), this part gives grad(loss) w.r.t. q_c\n",
    "    # pass this to backward_ldata\n",
    "\n",
    "    \n",
    "    one_hot=np.zeros((10,1))\n",
    "    one_hot[input_y]=1\n",
    "    x=np.exp(scores)/sum(np.exp(scores))\n",
    "    \n",
    "    \n",
    "    grad_from_loss=np.subtract(x,one_hot)\n",
    "    \n",
    "    \n",
    "\n",
    "    return grad_from_loss\n",
    "        "
   ]
  },
  {
   "cell_type": "code",
   "execution_count": null,
   "metadata": {},
   "outputs": [],
   "source": []
  },
  {
   "cell_type": "markdown",
   "metadata": {},
   "source": [
    "### Create utility functions for calculating training and validation accuracy"
   ]
  },
  {
   "cell_type": "code",
   "execution_count": 237,
   "metadata": {},
   "outputs": [],
   "source": [
    "## Load The Mnist data:\n",
    "# Download data from http://yann.lecun.com/exdb/mnist/\n",
    "# load the data.\n",
    "\n",
    "# maintain a train-val split\n",
    "\n",
    "# Now, write a generator that yields (random) mini-batches of the input data\n",
    "# Do not use same set of mini-batches for different epochs\n",
    "    \n",
    "def get_minibatch(training_x=train_image, training_y=train_label,batch_size=64):\n",
    "    indexes=np.arange(train_image.shape[0])\n",
    "    np.random.shuffle(indexes)\n",
    "    for i in range(0,len(indexes),batch_size):\n",
    "        mini_x=train_image[indexes[i:i+batch_size]]\n",
    "        mini_y=train_label[indexes[i:i+batch_size]]\n",
    "        yield mini_x,mini_y"
   ]
  },
  {
   "cell_type": "code",
   "execution_count": 238,
   "metadata": {
    "colab": {},
    "colab_type": "code",
    "id": "AhpaaUvJpdZJ"
   },
   "outputs": [
    {
     "ename": "KeyboardInterrupt",
     "evalue": "",
     "output_type": "error",
     "traceback": [
      "\u001b[0;31m---------------------------------------------------------------------------\u001b[0m",
      "\u001b[0;31mKeyboardInterrupt\u001b[0m                         Traceback (most recent call last)",
      "Cell \u001b[0;32mIn [238], line 21\u001b[0m\n\u001b[1;32m     19\u001b[0m \u001b[38;5;28;01mfor\u001b[39;00m i \u001b[38;5;129;01min\u001b[39;00m \u001b[38;5;28mrange\u001b[39m(batch_size):\n\u001b[1;32m     20\u001b[0m     score\u001b[38;5;241m=\u001b[39mobj\u001b[38;5;241m.\u001b[39mforward(input_x[i])\n\u001b[0;32m---> 21\u001b[0m     cur_loss\u001b[38;5;241m=\u001b[39m\u001b[43mloss_function\u001b[49m\u001b[43m(\u001b[49m\u001b[43minput_y\u001b[49m\u001b[43m[\u001b[49m\u001b[43mi\u001b[49m\u001b[43m]\u001b[49m\u001b[43m,\u001b[49m\u001b[43mscore\u001b[49m\u001b[43m)\u001b[49m\n\u001b[1;32m     23\u001b[0m     loss\u001b[38;5;241m+\u001b[39m\u001b[38;5;241m=\u001b[39mcur_loss\n\u001b[1;32m     24\u001b[0m     grad_loss\u001b[38;5;241m=\u001b[39mloss_backward(cur_loss,score,input_y[i])\n",
      "Cell \u001b[0;32mIn [236], line 3\u001b[0m, in \u001b[0;36mloss_function\u001b[0;34m(input_y, scores)\u001b[0m\n\u001b[1;32m      1\u001b[0m \u001b[38;5;28;01mdef\u001b[39;00m \u001b[38;5;21mloss_function\u001b[39m(input_y,scores):\n\u001b[0;32m----> 3\u001b[0m     sm\u001b[38;5;241m=\u001b[39mnp\u001b[38;5;241m.\u001b[39mexp(scores)\u001b[38;5;241m/\u001b[39m(\u001b[38;5;28;43msum\u001b[39;49m\u001b[43m(\u001b[49m\u001b[43mnp\u001b[49m\u001b[38;5;241;43m.\u001b[39;49m\u001b[43mexp\u001b[49m\u001b[43m(\u001b[49m\u001b[43mscores\u001b[49m\u001b[43m)\u001b[49m\u001b[43m)\u001b[49m)\n\u001b[1;32m      5\u001b[0m     loss\u001b[38;5;241m=\u001b[39m \u001b[38;5;241m-\u001b[39m\u001b[38;5;241m1\u001b[39m\u001b[38;5;241m*\u001b[39mmath\u001b[38;5;241m.\u001b[39mlog(sm[input_y])\n\u001b[1;32m      8\u001b[0m     \u001b[38;5;28;01mreturn\u001b[39;00m loss\n",
      "\u001b[0;31mKeyboardInterrupt\u001b[0m: "
     ]
    }
   ],
   "source": [
    "# Finally the trainer:\n",
    "# Make an instance of Single_layer_classifier\n",
    "# Train for t epochs:\n",
    "###  Train on the train-set obtained from train-validation split\n",
    "###  Use the mini-batch generator to get each mini-batch\n",
    "\n",
    "batch_size=150\n",
    "obj=Single_layer_classifier(784,10)\n",
    "max_epochs=2\n",
    "min_loss=math.inf\n",
    "batch_loss=[]\n",
    "for j in range(max_epochs):\n",
    "    minibatch=get_minibatch(train_image,train_label,batch_size)\n",
    "\n",
    "    for batch_id,(input_x , input_y) in enumerate(minibatch):\n",
    "        loss=0\n",
    "        cur_loss=0\n",
    "        grad_mat=np.zeros((784,10))\n",
    "        for i in range(batch_size):\n",
    "            score=obj.forward(input_x[i])\n",
    "            cur_loss=loss_function(input_y[i],score)\n",
    "            \n",
    "            loss+=cur_loss\n",
    "            grad_loss=loss_backward(cur_loss,score,input_y[i])\n",
    "            grad_mat+=((obj.backward_Ldata(grad_loss,input_x[i]))/batch_size)\n",
    "\n",
    "            \n",
    "        grad_mat2=obj.backward_Lreg()\n",
    "        obj.backward(grad_mat,grad_mat2)\n",
    "\n",
    "        min_loss=min(min_loss,loss/batch_size)\n",
    "        batch_loss.append(loss/batch_size)\n",
    "\n",
    "        \n",
    "print(len(batch_loss))\n",
    "plt.plot(batch_loss) \n",
    "\n",
    "print(min_loss)\n",
    "\n",
    "        "
   ]
  },
  {
   "cell_type": "code",
   "execution_count": null,
   "metadata": {},
   "outputs": [],
   "source": [
    "def final_report():\n",
    "    n=len(train_image)\n",
    "    s=0\n",
    "    for i in range(n):\n",
    "        score=obj.forward(train_image[i])\n",
    "        yred=np.argmax(score)\n",
    "        s+=(yred==train_label[i])\n",
    "    print(f\"train accuracy: {s/n}\")\n",
    "    n=len(test_image)\n",
    "    s=0\n",
    "    for i in range(n):\n",
    "        score=obj.forward(test_image[i])\n",
    "        yred=np.argmax(score)\n",
    "        s+=(yred==test_label[i])\n",
    "    print(f\"test accuracy: {s/n}\")\n",
    "        \n",
    "final_report()"
   ]
  },
  {
   "cell_type": "code",
   "execution_count": null,
   "metadata": {},
   "outputs": [],
   "source": []
  },
  {
   "cell_type": "markdown",
   "metadata": {
    "colab": {},
    "colab_type": "code",
    "id": "RH22BqefpdZ4"
   },
   "source": [
    "### Find the accuracy on the validation set"
   ]
  },
  {
   "cell_type": "code",
   "execution_count": null,
   "metadata": {},
   "outputs": [],
   "source": [
    "# WRITE CODE HERE"
   ]
  },
  {
   "cell_type": "code",
   "execution_count": null,
   "metadata": {
    "colab": {},
    "colab_type": "code",
    "id": "7wMDvvA4pdbN"
   },
   "outputs": [],
   "source": [
    "# The next step is to find the optimal value for lambda, number of epochs, learning rate and batch size. \n",
    "# CHOSE ANY TWO from the above mentioned to tune.\n",
    "# Create plot and table to show the effect of the hparams."
   ]
  },
  {
   "cell_type": "markdown",
   "metadata": {
    "colab": {},
    "colab_type": "code",
    "id": "BDrq0GfKpdb8"
   },
   "source": [
    "### Report final performance on MNIST test set"
   ]
  },
  {
   "cell_type": "code",
   "execution_count": null,
   "metadata": {},
   "outputs": [],
   "source": [
    "# WRITE CODE HERE"
   ]
  },
  {
   "cell_type": "markdown",
   "metadata": {},
   "source": [
    "### Find the best performing class and the worst performing class"
   ]
  },
  {
   "cell_type": "code",
   "execution_count": null,
   "metadata": {},
   "outputs": [],
   "source": [
    "# WRITE CODE HERE"
   ]
  },
  {
   "cell_type": "markdown",
   "metadata": {
    "colab_type": "text",
    "id": "Emb3Bo_NpdUl"
   },
   "source": [
    "# Training a Linear Classifier on MNIST from scikit-learn\n",
    "\n",
    "In this section you have to train a linear classifier from the scikit-learn library and compare its results against your implementation.\n",
    "(https://scikit-learn.org/stable/modules/generated/sklearn.linear_model.LinearRegression.html)"
   ]
  },
  {
   "cell_type": "code",
   "execution_count": null,
   "metadata": {},
   "outputs": [],
   "source": [
    "    # WRITE CODE HERE "
   ]
  },
  {
   "cell_type": "markdown",
   "metadata": {},
   "source": [
    "### Compare the training and test accuracies for the your implementation and linear classifier from scikit-learn"
   ]
  },
  {
   "cell_type": "code",
   "execution_count": null,
   "metadata": {},
   "outputs": [],
   "source": [
    "    # WRITE CODE HERE"
   ]
  },
  {
   "cell_type": "markdown",
   "metadata": {},
   "source": [
    "### Any additional observations / comments?"
   ]
  },
  {
   "cell_type": "code",
   "execution_count": null,
   "metadata": {},
   "outputs": [],
   "source": []
  },
  {
   "cell_type": "markdown",
   "metadata": {},
   "source": [
    "## BONUS Question\n",
    "### Observe the effect on test set accuracy by changing the number of training samples.\n",
    "### Train on 10%, 20% and 50% training data and plot the percentage of training data v.s. the test accuracy.  "
   ]
  },
  {
   "cell_type": "code",
   "execution_count": null,
   "metadata": {},
   "outputs": [],
   "source": [
    "# WRITE CODE HERE"
   ]
  },
  {
   "cell_type": "markdown",
   "metadata": {
    "colab_type": "text",
    "id": "sXFJTTnkpdcp"
   },
   "source": [
    "# Implementing Backpropagation\n",
    "\n",
    "Now that you have had some experience with single layer networks, we can proceed to more complex architectures. But first we need to completely understand and implement backpropagation.\n",
    "\n",
    "## Backpropagation:\n",
    "\n",
    "Simply put, a way of computing gradients of expressions through repeated application of chain rule. If\n",
    "$$\n",
    "L = f (g (h (\\textbf{x})))\n",
    "$$\n",
    "then, by the chain rule we have:\n",
    "$$\n",
    "\\frac{\\partial L}{\\partial \\textbf{x}} = \\frac{\\partial f}{\\partial g} \\cdot \\frac{\\partial g}{\\partial h} \\cdot \\frac{\\partial h}{\\partial \\textbf{x}} \n",
    "$$\n",
    "\n",
    "** Look into the class Lecture for more detail **\n",
    "\n"
   ]
  },
  {
   "cell_type": "markdown",
   "metadata": {
    "colab_type": "text",
    "id": "UixM41Rppdcz"
   },
   "source": [
    "# Question 2 : Scalar Backpropagation\n",
    "\n",
    "Evaluate the gradient of the following function w.r.t. the input:\n",
    "\n",
    "$$ f(x,y,z) =  log(\\sigma(\\frac{cos(\\pi \\times x)+sin(\\pi \\times y/2)}{tanh(z^2)}))$$\n",
    "where $\\sigma$ is the sigmoid function. Find gradient for the following inputs:\n",
    "  * $(x,y,z)$ =  (2,4,1)\n",
    "  * $(x,y,z)$ =  (9,14,3)\n",
    "  * $(x,y,z)$ =  (128,42,666)\n",
    "  * $(x,y,z)$ =  (52,14,28)\n",
    "\n",
    "      "
   ]
  },
  {
   "cell_type": "code",
   "execution_count": null,
   "metadata": {
    "colab": {},
    "colab_type": "code",
    "id": "Uu9zd5PLpdc_"
   },
   "outputs": [],
   "source": [
    "import numpy as np\n",
    "import math\n",
    "class sigmoid():\n",
    "    def __init__(self):\n",
    "        self.input=None\n",
    "        self.output=None\n",
    "    def forward(self,inp):\n",
    "        self.input=inp\n",
    "        self.output=1/(1+np.exp(-1*inp))\n",
    "        \n",
    "        return self.output\n",
    "    def backward(self):\n",
    "        input_grad=self.output*(1-self.output)\n",
    "        return input_grad\n",
    "\n",
    "class log():\n",
    "    def __init__(self):\n",
    "        self.input=None\n",
    "        self.output=None\n",
    "    def forward(self,inp):\n",
    "        self.input=inp\n",
    "        self.output=np.log(inp)\n",
    "        \n",
    "        return self.output\n",
    "    def backward(self):\n",
    "        input_grad=1/self.input\n",
    "        return input_grad\n",
    "        "
   ]
  },
  {
   "cell_type": "code",
   "execution_count": null,
   "metadata": {
    "colab": {},
    "colab_type": "code",
    "id": "KyqeWPF0pddy"
   },
   "outputs": [],
   "source": [
    "# Now write the class func\n",
    "# which constructs the graph (all operators), forward and backward functions.\n",
    "\n",
    "class Func():\n",
    "    def __init__(self):\n",
    "        self.x=0\n",
    "        self.y=0\n",
    "        self.z=0\n",
    "        self.L=0\n",
    "        self.S=0\n",
    "        self.c=0\n",
    "        self.s=0\n",
    "        self.d=0\n",
    "        self.ins=0\n",
    "    def forward(self,x,y,z):\n",
    "        self.x=x\n",
    "        self.y=y\n",
    "        self.z=z\n",
    "        \n",
    "        self.c=np.cos(math.pi*self.x)\n",
    "        self.s=np.sin(math.pi*self.y/2)\n",
    "        self.d=np.tanh(z**2)\n",
    "        \n",
    "        self.ins=(self.c+self.s)/self.d\n",
    "        \n",
    "        \n",
    "        self.S=sigmoid().forward(self.ins)\n",
    "        self.L=log().forward(self.S)\n",
    "        \n",
    "        return self.L\n",
    "    \n",
    "    def backward(self):\n",
    "        grad_x,grad_y,grad_z=1,1,1\n",
    "        \n",
    "        grad_L=(1/self.S)\n",
    "        grad_S=self.S*(1-self.S)*grad_L\n",
    "        \n",
    "        grad_x=(-np.sin(math.pi*self.x)*math.pi)/self.d\n",
    "        grad_x*=grad_S\n",
    "        \n",
    "        grad_y=(np.cos(math.pi*self.y/2)*math.pi/2)/self.d\n",
    "        grad_y*=grad_S\n",
    "        \n",
    "        grad_z=(-1/self.d**2)*(self.c+self.s)*(1-self.d**2)*2*self.z\n",
    "        grad_z*=grad_S\n",
    "        \n",
    "        return [grad_x,grad_y,grad_z]\n",
    "    "
   ]
  },
  {
   "cell_type": "code",
   "execution_count": null,
   "metadata": {},
   "outputs": [],
   "source": [
    "model=Func()\n",
    "model.forward(2,4,1)\n",
    "print(model.backward())\n",
    "model.forward(9,14,3)\n",
    "print(model.backward())\n",
    "model.forward(52.0,14.0,28.0)\n",
    "print(model.backward())\n"
   ]
  },
  {
   "cell_type": "code",
   "execution_count": null,
   "metadata": {},
   "outputs": [],
   "source": [
    "import torch\n",
    "\n",
    "def f(x, y, z):\n",
    "    return torch.log(torch.sigmoid((torch.cos(torch.tensor(np.pi) * x) + torch.sin(torch.tensor(np.pi) * y / 2)) / torch.tanh(z ** 2)))\n",
    "x,y,z = 2.0,4.0,1.0\n",
    "#x,y,z = 9.0,14.0,3.0\n",
    "#x,y,z = 52.0,14.0,28.0\n",
    "\n",
    "x = torch.tensor(x, requires_grad=True)\n",
    "y = torch.tensor(y, requires_grad=True)\n",
    "z = torch.tensor(z, requires_grad=True)\n",
    "\n",
    "out = f(x, y, z)\n",
    "print(out)\n",
    "out.backward()\n",
    "\n",
    "dx = x.grad\n",
    "dy = y.grad\n",
    "dz = z.grad\n",
    "print(dx,dy,dz)"
   ]
  },
  {
   "cell_type": "markdown",
   "metadata": {
    "colab_type": "text",
    "id": "rYE4dEd-pdef"
   },
   "source": [
    "## Question 3 : Modular Vector Backpropagation\n",
    "\n",
    "* Construct a Linear Layer module, implementing the forward and backward functions for arbitrary sizes.\n",
    "* Construct a ReLU module, implementing the forward and backward functions for arbitrary sizes.\n",
    "* Create a 2 layer MLP using the constructed modules.\n",
    "\n",
    "* Modifying the functions built in Question 1 , train this two layer MLP for the same data set, MNIST, with the same train-val split."
   ]
  },
  {
   "cell_type": "code",
   "execution_count": null,
   "metadata": {
    "colab": {},
    "colab_type": "code",
    "id": "0viOMFfFpden"
   },
   "outputs": [],
   "source": []
  },
  {
   "cell_type": "code",
   "execution_count": null,
   "metadata": {
    "colab": {},
    "colab_type": "code",
    "id": "zmlWuzv1pdfK"
   },
   "outputs": [],
   "source": []
  },
  {
   "cell_type": "code",
   "execution_count": null,
   "metadata": {
    "colab": {},
    "colab_type": "code",
    "id": "ppSfRLySpdfv"
   },
   "outputs": [],
   "source": []
  },
  {
   "cell_type": "code",
   "execution_count": null,
   "metadata": {
    "colab": {},
    "colab_type": "code",
    "id": "MyDbNSeRpdgL"
   },
   "outputs": [],
   "source": []
  },
  {
   "cell_type": "markdown",
   "metadata": {},
   "source": [
    "### Plot the training loss and training accuracy plot"
   ]
  },
  {
   "cell_type": "code",
   "execution_count": null,
   "metadata": {},
   "outputs": [],
   "source": [
    "# Use the same utility functions defined in the previous question\n",
    "# WRITE CODE HERE"
   ]
  },
  {
   "cell_type": "markdown",
   "metadata": {
    "colab": {},
    "colab_type": "code",
    "id": "RH22BqefpdZ4"
   },
   "source": [
    "### Find the accuracy on the validation set"
   ]
  },
  {
   "cell_type": "code",
   "execution_count": null,
   "metadata": {},
   "outputs": [],
   "source": [
    "# WRITE CODE HERE"
   ]
  },
  {
   "cell_type": "code",
   "execution_count": null,
   "metadata": {
    "colab": {},
    "colab_type": "code",
    "id": "7wMDvvA4pdbN"
   },
   "outputs": [],
   "source": [
    "# Find the optimal value of learning rate and batch size. \n",
    "# Use the same tuning strategy as the previous question\n",
    "# Create plot and table to show the effect of the hparams."
   ]
  },
  {
   "cell_type": "markdown",
   "metadata": {
    "colab": {},
    "colab_type": "code",
    "id": "BDrq0GfKpdb8"
   },
   "source": [
    "### Report final performance on MNIST test set"
   ]
  },
  {
   "cell_type": "code",
   "execution_count": null,
   "metadata": {},
   "outputs": [],
   "source": [
    "# WRITE CODE HERE"
   ]
  },
  {
   "cell_type": "markdown",
   "metadata": {},
   "source": [
    "### Find the best performing class and the worst performing class"
   ]
  },
  {
   "cell_type": "code",
   "execution_count": null,
   "metadata": {},
   "outputs": [],
   "source": [
    "# WRITE CODE HERE"
   ]
  },
  {
   "cell_type": "markdown",
   "metadata": {},
   "source": [
    "### Any additional observations / comments?"
   ]
  },
  {
   "cell_type": "code",
   "execution_count": null,
   "metadata": {},
   "outputs": [],
   "source": []
  },
  {
   "cell_type": "markdown",
   "metadata": {},
   "source": [
    "## BONUS Question\n",
    "### Observe the effect on test set accuracy by changing the number of training samples.\n",
    "### Train on 10%, 20% and 50% training data and plot the percentage of training data v.s. the test accuracy.  "
   ]
  },
  {
   "cell_type": "code",
   "execution_count": null,
   "metadata": {},
   "outputs": [],
   "source": [
    "# WRITE CODE HERE"
   ]
  },
  {
   "cell_type": "markdown",
   "metadata": {
    "colab_type": "text",
    "id": "KX-cXeY3pdhr"
   },
   "source": [
    "\n",
    "# Implementing a Convolution Module with Numpy\n",
    "\n",
    "* This topic will require you to implement the Convolution operation using Numpy.\n",
    "* We will use the Module for tasks like Blurring.\n",
    "* Finally, we implement Backpropagation for the convolution module.\n"
   ]
  },
  {
   "cell_type": "markdown",
   "metadata": {
    "colab_type": "text",
    "id": "kHeieqicpdhz"
   },
   "source": [
    "## Question 4\n",
    "\n",
    "* Implement a naive Convolution module, with basic functionalities: kernel_size, padding, stride and dilation\n",
    "  \n",
    "* Test out the convolution layer by using it to do gaussian blurring on 10 random images of CIFAR-10 dataset\n"
   ]
  },
  {
   "cell_type": "code",
   "execution_count": 247,
   "metadata": {
    "colab": {},
    "colab_type": "code",
    "id": "YoVvSEj0pdh5"
   },
   "outputs": [],
   "source": [
    "## Define a class Convolution Layer, which is initialized with the various required params:\n",
    "class Convolution_Layer():\n",
    "    \n",
    "    def __init__(self,input_shape , filter_size ,depth, bias=True, stride=1, padding=0, dilation=1):\n",
    "        kernel_size=filter_size[2]\n",
    "        input_depth, input_height, input_width = input_shape\n",
    "        self.depth = depth\n",
    "        self.input_shape = input_shape\n",
    "        self.input_depth = input_depth\n",
    "        \n",
    "        self.output_shape = (depth, input_height - kernel_size + 1, input_width - kernel_size + 1)\n",
    "        self.kernels_shape = (depth, input_depth, kernel_size, kernel_size)\n",
    "        self.kernels = np.random.normal(loc=0,scale=0.0001,size=self.kernels_shape)\n",
    "    \n",
    "    def corelate(self,A,B):\n",
    "    \n",
    "        R,C=A.shape\n",
    "        r,c=B.shape\n",
    "        res=np.zeros((R-r+1,C-c+1))\n",
    "        for i in range(R-r+1):\n",
    "            for j in range(C-c+1):\n",
    "                res[i][j]=np.sum(A[i:i+r,j:j+c]*B)\n",
    "        return res\n",
    "\n",
    "\n",
    "\n",
    "    def convlolve_full(self,A,B):\n",
    "        R,C=A.shape\n",
    "        r,c=B.shape\n",
    "        #print(r,c)\n",
    "        A = np.pad(A, (r-1,c-1), constant_values=(0))\n",
    "        B=np.rot90(np.rot90(B))\n",
    "\n",
    "        return corelate(A,B)\n",
    "\n",
    "    def forward(self,inp):\n",
    "        self.input = inp\n",
    "        #print(self.output_shape)\n",
    "        self.output = np.zeros(self.output_shape)\n",
    "        for i in range(self.depth):\n",
    "            for j in range(self.input_depth):\n",
    "                self.output[i] += self.corelate(self.input[j], self.kernels[i, j])\n",
    "        return self.output\n",
    "    \n",
    "    \n",
    "    def backward(self, output_grad,learning_rate):\n",
    "        \n",
    "        kernels_gradient = np.zeros(self.kernels_shape)\n",
    "        input_gradient = np.zeros(self.input_shape)\n",
    "        \n",
    "        for i in range(self.depth):\n",
    "            for j in range(self.input_depth):\n",
    "                kernels_gradient[i, j] = self.corelate(self.input[j], output_grad[i])\n",
    "                input_gradient[j] += self.convlolve_full(output_grad[i], self.kernels[i, j])\n",
    "\n",
    "        self.kernels -= learning_rate * kernels_gradient\n",
    "        \n",
    "        return input_gradient\n",
    "    \n",
    "    def set_weights(self, new_weights):\n",
    "        self.kernels=new_weights\n",
    "    "
   ]
  },
  {
   "cell_type": "markdown",
   "metadata": {
    "colab": {},
    "colab_type": "code",
    "id": "TDoqiua8pdia"
   },
   "source": [
    "### Download CIFAR-10 images and load it in a numpy array (https://www.cs.toronto.edu/~kriz/cifar.html)\n",
    "\n"
   ]
  },
  {
   "cell_type": "code",
   "execution_count": 240,
   "metadata": {},
   "outputs": [
    {
     "data": {
      "image/png": "[encoded data removed]",
      "text/plain": [
       "<Figure size 640x480 with 1 Axes>"
      ]
     },
     "metadata": {},
     "output_type": "display_data"
    }
   ],
   "source": [
    "def unpickle(file):\n",
    "    import pickle\n",
    "    with open(file, 'rb') as fo:\n",
    "        dict = pickle.load(fo, encoding='bytes')\n",
    "    return dict\n",
    "\n",
    "file = 'cifar-10-batches-py/data_batch_1'\n",
    "data_batch_1 = unpickle(file)\n",
    "\n",
    "\n",
    "image = data_batch_1[b'data'][1].reshape(3,32,32).transpose(1,2,0)\n",
    "plt.imshow(image)\n",
    "image=image.transpose(2,0,1)"
   ]
  },
  {
   "cell_type": "markdown",
   "metadata": {},
   "source": [
    "### Initialize a conv layer. Set weights for gaussian blurring (do not train the filter for this part). Visualise the filters using matplotlib\n"
   ]
  },
  {
   "cell_type": "code",
   "execution_count": 241,
   "metadata": {},
   "outputs": [],
   "source": [
    "def make_gaussian_blur(var=2,filter_size=(3,5,5)):\n",
    "    d,h,w=filter_size\n",
    "    fil=np.zeros(filter_size)\n",
    "    for i in range(d):\n",
    "        for j in range(h):\n",
    "            for k in range(w):\n",
    "                p=(-1/2)*(j**2+k**2)/var\n",
    "                fil[i][j][k]=(1/(2*math.pi*var))*np.exp(p)\n",
    "    return fil\n",
    "    "
   ]
  },
  {
   "cell_type": "code",
   "execution_count": 242,
   "metadata": {},
   "outputs": [
    {
     "data": {
      "text/plain": [
       "<matplotlib.image.AxesImage at 0x1766264a0>"
      ]
     },
     "execution_count": 242,
     "metadata": {},
     "output_type": "execute_result"
    },
    {
     "data": {
      "image/png": "[encoded data removed]",
      "text/plain": [
       "<Figure size 640x480 with 1 Axes>"
      ]
     },
     "metadata": {},
     "output_type": "display_data"
    }
   ],
   "source": [
    "gaussian_blur=make_gaussian_blur(4,(3,5,5))\n",
    "model=Convolution_Layer(image.shape,gaussian_blur.shape,1)\n",
    "model.set_weights(gaussian_blur.reshape(1,*gaussian_blur.shape))\n",
    "out=model.forward(image)\n",
    "plt.imshow(out[0])"
   ]
  },
  {
   "cell_type": "code",
   "execution_count": 243,
   "metadata": {},
   "outputs": [
    {
     "name": "stdout",
     "output_type": "stream",
     "text": [
      "(1, 30, 30)\n"
     ]
    },
    {
     "data": {
      "text/plain": [
       "<matplotlib.image.AxesImage at 0x149fbca30>"
      ]
     },
     "execution_count": 243,
     "metadata": {},
     "output_type": "execute_result"
    },
    {
     "data": {
      "image/png": "[encoded data removed]",
      "text/plain": [
       "<Figure size 640x480 with 1 Axes>"
      ]
     },
     "metadata": {},
     "output_type": "display_data"
    }
   ],
   "source": [
    "do_nothing=(np.zeros((3,3,3)))\n",
    "do_nothing[:][1][1]=1\n",
    "model=Convolution_Layer(image.shape,do_nothing.shape,1)\n",
    "model.set_weights(do_nothing.reshape(1,*do_nothing.shape))\n",
    "out=model.forward(image)\n",
    "print(out.shape)\n",
    "plt.imshow(out[0])"
   ]
  },
  {
   "cell_type": "markdown",
   "metadata": {},
   "source": [
    "### Generate output for the first 5 images of the training set"
   ]
  },
  {
   "cell_type": "code",
   "execution_count": 244,
   "metadata": {},
   "outputs": [
    {
     "data": {
      "image/png": "[encoded data removed]",
      "text/plain": [
       "<Figure size 640x480 with 1 Axes>"
      ]
     },
     "metadata": {},
     "output_type": "display_data"
    },
    {
     "data": {
      "image/png": "[encoded data removed]",
      "text/plain": [
       "<Figure size 640x480 with 1 Axes>"
      ]
     },
     "metadata": {},
     "output_type": "display_data"
    },
    {
     "data": {
      "image/png": "[encoded data removed]",
      "text/plain": [
       "<Figure size 640x480 with 1 Axes>"
      ]
     },
     "metadata": {},
     "output_type": "display_data"
    },
    {
     "data": {
      "image/png": "[encoded data removed]",
      "text/plain": [
       "<Figure size 640x480 with 1 Axes>"
      ]
     },
     "metadata": {},
     "output_type": "display_data"
    },
    {
     "data": {
      "image/png": "[encoded data removed]",
      "text/plain": [
       "<Figure size 640x480 with 1 Axes>"
      ]
     },
     "metadata": {},
     "output_type": "display_data"
    },
    {
     "data": {
      "image/png": "[encoded data removed]",
      "text/plain": [
       "<Figure size 640x480 with 1 Axes>"
      ]
     },
     "metadata": {},
     "output_type": "display_data"
    },
    {
     "data": {
      "image/png": "[encoded data removed]",
      "text/plain": [
       "<Figure size 640x480 with 1 Axes>"
      ]
     },
     "metadata": {},
     "output_type": "display_data"
    },
    {
     "data": {
      "image/png": "[encoded data removed]",
      "text/plain": [
       "<Figure size 640x480 with 1 Axes>"
      ]
     },
     "metadata": {},
     "output_type": "display_data"
    },
    {
     "data": {
      "image/png": "[encoded data removed]",
      "text/plain": [
       "<Figure size 640x480 with 1 Axes>"
      ]
     },
     "metadata": {},
     "output_type": "display_data"
    },
    {
     "data": {
      "image/png": "[encoded data removed]",
      "text/plain": [
       "<Figure size 640x480 with 1 Axes>"
      ]
     },
     "metadata": {},
     "output_type": "display_data"
    }
   ],
   "source": [
    "for i in range(5):\n",
    "    image = data_batch_1[b'data'][i].reshape(3,32,32).transpose(1,2,0)\n",
    "    plt.imshow(image)\n",
    "    plt.show()\n",
    "    image=image.transpose(2,0,1)\n",
    "    \n",
    "    gaussian_blur=make_gaussian_blur(4,(3,5,5))\n",
    "    model=Convolution_Layer(image.shape,gaussian_blur.shape,1)\n",
    "    model.set_weights(gaussian_blur.reshape(1,*gaussian_blur.shape))\n",
    "    out=model.forward(image)\n",
    "    plt.imshow(out[0])\n",
    "    plt.show()"
   ]
  },
  {
   "cell_type": "markdown",
   "metadata": {},
   "source": [
    "### Use matplotlib to show the input and corresponding blurred output"
   ]
  },
  {
   "cell_type": "code",
   "execution_count": null,
   "metadata": {},
   "outputs": [],
   "source": []
  },
  {
   "cell_type": "markdown",
   "metadata": {
    "colab_type": "text",
    "id": "zmsPeOEOpdi8"
   },
   "source": [
    "## Question 5\n",
    "<br>\n",
    "Now we will use this module for training a simple Convolution Layer using CIFAR-10 images. \n",
    "\n",
    "* The goal is to learn a set of weights, by using the backpropagation function created. To test the backpropagation, instead of training a whole network, we will train only a single layer.\n",
    "  * Instantiate a Convolution  layer $C_0$ with 20 filters, each with size 5$\\times$5 (RGB image, so 3 input channels). Load the given numpy array of size (20,3,5,5), which represents the weights of a convolution layer. Set the given values as the filter weights for $C_0$. Take 100 CIFAR-10 images. Save the output of these 100 images generated from this Convolution layer $C_0$. \n",
    "  \n",
    "  * Now, initialize a new convolution layer $C$ with weight values sampled from uniform distribution [-1,1]. Use the $L_2$ loss between the output of this layer $C$ and the output generated in the previous step to learn the filter weights of $C_0$.\n"
   ]
  },
  {
   "cell_type": "code",
   "execution_count": 248,
   "metadata": {
    "colab": {},
    "colab_type": "code",
    "id": "p8dGnMHOpdjD"
   },
   "outputs": [
    {
     "name": "stdout",
     "output_type": "stream",
     "text": [
      "(20, 3, 5, 5)\n",
      "(100, 20, 28, 28)\n"
     ]
    }
   ],
   "source": [
    "## Load filter weights from given numpy array \"C0_weights.npy\".\n",
    "## Init a conv layer C_0 with these given weights\n",
    "\n",
    "## For all images get output. Store in numpy array.\n",
    "\n",
    "C0_weights = np.load(\"C0_weights.npy\")\n",
    "print(C0_weights.shape)\n",
    "\n",
    "\n",
    "model=Convolution_Layer((3,32,32),(3,5,5),20)\n",
    "model.set_weights=C0_weights\n",
    "C0_out=[]\n",
    "for i in range(100):\n",
    "    img=data_batch_1[b'data'][i].reshape(3,32,32)/255\n",
    "    out=model.forward(img)\n",
    "    C0_out.append(out)\n",
    "C0_out=np.array(res)\n",
    "print(C0_out.shape)\n",
    "\n"
   ]
  },
  {
   "cell_type": "code",
   "execution_count": null,
   "metadata": {},
   "outputs": [],
   "source": []
  },
  {
   "cell_type": "code",
   "execution_count": 252,
   "metadata": {
    "colab": {},
    "colab_type": "code",
    "id": "nhhHA4UCpdji"
   },
   "outputs": [
    {
     "name": "stdout",
     "output_type": "stream",
     "text": [
      "120.33123453876804\n",
      "148.72908313545992\n",
      "147.05211853578243\n",
      "86.39544860225404\n",
      "111.28336721585801\n",
      "96.58272394851423\n",
      "123.25623342162687\n",
      "118.60569686220978\n",
      "137.34478916491426\n",
      "71.61845361365643\n",
      "62.167293331008686\n",
      "122.78365761886396\n",
      "113.74355528034907\n",
      "80.24806533334173\n",
      "80.59135657521014\n",
      "105.55911060055313\n",
      "109.57393892244981\n",
      "72.57516414441912\n",
      "86.25575546619592\n",
      "84.54697148144248\n",
      "108.43352498728507\n",
      "101.01207261548834\n",
      "51.62974782267378\n",
      "59.749638406222864\n",
      "62.461816340407445\n",
      "77.78259684836452\n",
      "54.229656397330004\n",
      "50.87403598835652\n",
      "71.5552024461146\n",
      "91.42121142583447\n",
      "67.60923162800654\n",
      "70.971320096037\n",
      "68.97451745505327\n",
      "64.35912512661658\n",
      "66.37041472212766\n",
      "66.3123180454403\n",
      "69.84839478548454\n",
      "44.28073964039433\n",
      "68.37544952066547\n",
      "51.679757698136015\n",
      "55.631862415075844\n",
      "73.2508928913203\n",
      "49.157990110946535\n",
      "61.09021760781817\n",
      "50.36965879900101\n",
      "57.4722001003792\n",
      "58.62915495487989\n",
      "43.532664339588756\n",
      "55.65838468877668\n",
      "70.80051896773824\n",
      "40.31346112794566\n",
      "50.67939726734535\n",
      "48.64808574378855\n",
      "50.748993001204155\n",
      "35.54822604737009\n",
      "55.95760008975359\n",
      "50.420219969722986\n",
      "30.29564357927863\n",
      "35.23815914502517\n",
      "49.71310480025198\n",
      "55.66026313927604\n",
      "48.732058134193075\n",
      "44.3051051803801\n",
      "39.18689243155591\n",
      "46.75367021826084\n",
      "54.105300673066516\n",
      "41.18722336612152\n",
      "45.154564916831774\n",
      "51.68168582122516\n",
      "29.130703631401897\n",
      "38.806656511033\n",
      "48.88019015521174\n",
      "41.65198707758434\n",
      "37.99048490544976\n",
      "42.056299853165925\n",
      "32.110531981436814\n",
      "49.186456482284854\n",
      "40.973448939205426\n",
      "42.63732275864537\n",
      "57.48771840672875\n",
      "26.51947221566301\n",
      "39.07106598355955\n",
      "36.918237504174336\n",
      "42.07077668986747\n",
      "45.0493377182231\n",
      "37.5031837989708\n",
      "29.693534618975853\n",
      "38.816477410222156\n",
      "46.319605246943034\n",
      "38.52038907794036\n",
      "36.05688610639845\n",
      "32.81556039095737\n",
      "47.13967317183087\n",
      "37.41965053219404\n",
      "37.57070331279446\n",
      "55.40991260186456\n",
      "47.973024813637664\n",
      "37.95801130077635\n",
      "37.163684732406324\n",
      "62.030599397111615\n",
      "epoch: 0\n",
      "40.46260465360549\n",
      "50.47488862687413\n",
      "37.38796267263128\n",
      "28.605575314161964\n",
      "46.31919339628563\n",
      "49.87877312186626\n",
      "49.92543280173535\n",
      "46.73050164896175\n",
      "57.238131883982355\n",
      "35.154453934231896\n",
      "13.885857141339848\n",
      "45.22384691018714\n",
      "41.620392227855895\n",
      "44.375348107048666\n",
      "45.193191605057066\n",
      "33.7270484814934\n",
      "36.69264679381637\n",
      "32.057345754984574\n",
      "32.34804537317157\n",
      "43.16545094618892\n",
      "34.57711079648618\n",
      "87.56884276620647\n",
      "28.600068354947513\n",
      "26.49336169029118\n",
      "38.9567057010681\n",
      "31.96837247527708\n",
      "26.596262845087562\n",
      "34.79075102567525\n",
      "35.63002594351722\n",
      "48.80565612463427\n",
      "33.62971234871785\n",
      "31.77668105088291\n",
      "51.7980324878729\n",
      "31.012571270582104\n",
      "35.47854359184008\n",
      "46.11903096578413\n",
      "28.749503282876013\n",
      "29.08663258410188\n",
      "39.069835997309056\n",
      "29.717559552516015\n",
      "33.47480931116786\n",
      "39.3601760182404\n",
      "23.998853638108496\n",
      "44.947873979827634\n",
      "37.72175275674001\n",
      "49.933916995462624\n",
      "43.882008808789834\n",
      "33.33395216179638\n",
      "25.803851748943238\n",
      "53.16851632290888\n",
      "33.31535816487628\n",
      "41.94747556171997\n",
      "40.69511245929901\n",
      "34.79731815670549\n",
      "29.334658069655912\n",
      "44.02745558863876\n",
      "45.023778371938334\n",
      "24.887837228520812\n",
      "26.134085509134557\n",
      "43.98009588250281\n",
      "48.68516359785764\n",
      "41.5716887134965\n",
      "37.118467431645335\n",
      "34.23875386618324\n",
      "41.782404495024394\n",
      "48.57856950106423\n",
      "36.3667831379851\n",
      "39.52885803746974\n",
      "48.022594889971394\n",
      "21.898838423842683\n",
      "34.33611896957326\n",
      "45.86414568575288\n",
      "38.228776375211964\n",
      "35.227257861916804\n",
      "36.74358070137655\n",
      "28.72768560429357\n",
      "44.18244709552584\n",
      "37.16267344582909\n",
      "39.41238808851056\n",
      "52.941113329120626\n",
      "23.292822985232597\n",
      "37.012739331711735\n",
      "33.45654750843114\n",
      "38.455612440200774\n",
      "42.886064727965376\n",
      "36.31515124634686\n",
      "27.26843356071515\n",
      "35.98558765409762\n",
      "44.69408014104734\n",
      "35.14310250754218\n",
      "33.77592901617351\n",
      "31.41428484511774\n",
      "44.7383765914622\n",
      "34.94191695306989\n",
      "35.12658257144663\n",
      "51.796562594146586\n",
      "45.6991785290452\n",
      "36.17772310427593\n",
      "35.4246908751756\n",
      "60.361627444906766\n",
      "epoch: 1\n",
      "38.579379517808874\n",
      "48.441640745935885\n",
      "34.85621764648549\n",
      "27.27401048243081\n",
      "44.25100814326626\n",
      "48.48673392976811\n",
      "47.76037410451349\n",
      "44.92094680372367\n",
      "54.712318456910715\n",
      "33.627740057011145\n",
      "13.037894144440942\n",
      "43.483586479969794\n",
      "39.547651570371755\n",
      "43.0548527039775\n",
      "43.71079156470392\n",
      "31.955728385527728\n",
      "34.83296709479336\n",
      "30.916306689433046\n",
      "31.02339007374692\n",
      "41.79046043566245\n",
      "33.448857707383446\n",
      "85.0528859971931\n",
      "27.75415280281797\n",
      "25.45624976590945\n",
      "37.98048374102666\n",
      "30.58206311570471\n",
      "25.407704628253438\n",
      "33.84803683529168\n",
      "34.53765430300104\n",
      "46.928090502790624\n",
      "32.86669249540231\n",
      "30.44067425744022\n",
      "50.216443893543264\n",
      "30.089853650092962\n",
      "34.157915978045274\n",
      "44.286838912158665\n",
      "27.8318837779115\n",
      "28.229455782416036\n",
      "37.70920279605563\n",
      "28.837166444197894\n",
      "32.27019162710035\n",
      "38.03812670722649\n",
      "23.07823232176625\n",
      "43.48684398474046\n",
      "36.78193767384036\n",
      "48.364321596939725\n",
      "42.35445274801073\n",
      "32.00286635796816\n",
      "24.950199004656927\n",
      "51.724276902419504\n",
      "32.49252276335669\n",
      "40.73943899723751\n",
      "39.640577608512196\n",
      "33.461256746660524\n",
      "28.67049483399539\n",
      "42.76985830943838\n",
      "43.376686265276085\n",
      "24.136795032863393\n",
      "25.17428494626908\n",
      "42.69177523473681\n",
      "47.24529320740117\n",
      "40.507838403063765\n",
      "35.68154189365126\n",
      "33.333734368880506\n",
      "40.626062668217564\n",
      "47.22411842748693\n",
      "35.34897030926467\n",
      "38.55556913711261\n",
      "46.585729393354015\n",
      "21.022807370301333\n",
      "33.49362051860609\n",
      "44.46982472959716\n",
      "37.10273041683427\n",
      "34.224642711839124\n",
      "35.729691004875164\n",
      "28.143975687555145\n",
      "42.81928103044452\n",
      "36.00338673257452\n",
      "38.4770528164204\n",
      "51.501894944728015\n",
      "22.63179710462456\n",
      "36.00023680253948\n",
      "32.69550622708074\n",
      "37.08860169974869\n",
      "41.75836294729995\n",
      "35.24609576449963\n",
      "26.529437300825172\n",
      "35.07225836813711\n",
      "43.47630720520875\n",
      "34.02086095563365\n",
      "32.891559349306746\n",
      "30.439747801687727\n",
      "43.560712786114514\n",
      "33.64522645082618\n",
      "34.158998893945586\n",
      "50.617764641290414\n",
      "44.137752480887066\n",
      "35.14091947393577\n",
      "34.39457664084423\n",
      "58.674091575277615\n",
      "epoch: 2\n",
      "37.25771185131487\n",
      "47.160241504459435\n",
      "33.75712501535907\n",
      "26.364427227038217\n",
      "42.73653520722546\n",
      "47.0417810188802\n",
      "46.79697249934492\n",
      "43.78109759572945\n",
      "52.62430727723085\n",
      "32.428614155255815\n",
      "12.790946075807781\n",
      "42.21330411430913\n",
      "38.24955870241696\n",
      "41.64925854910165\n",
      "42.55821636654716\n",
      "30.760800351762345\n",
      "33.82768256421214\n",
      "29.95428793094522\n",
      "30.038043344509244\n",
      "40.75499436591992\n",
      "32.465242931056224\n",
      "82.24588589660637\n",
      "27.081165660768487\n",
      "24.688066460084933\n",
      "37.21246507124105\n",
      "29.660672448913335\n",
      "24.572846213879263\n",
      "32.99706920323713\n",
      "33.6022505697997\n",
      "45.42876335954909\n",
      "32.20646795137981\n",
      "29.564025543025522\n",
      "48.73867729374714\n",
      "29.3012503851586\n",
      "33.294861797433484\n",
      "42.82939283809054\n",
      "27.087679480121317\n",
      "27.5381725530999\n",
      "36.545829381401035\n",
      "28.08351338044051\n",
      "31.26907495624964\n",
      "36.90833427146447\n",
      "22.409866127673872\n",
      "42.113985899654445\n",
      "35.973505991349846\n",
      "46.8584124526561\n",
      "40.97163185755737\n",
      "30.770476133868847\n",
      "24.350051060292323\n",
      "50.362101563472\n",
      "31.730898266020635\n",
      "39.60400142956777\n",
      "38.64806427248721\n",
      "32.278063298918816\n",
      "28.136980908830804\n",
      "41.70163643193596\n",
      "41.80241774636438\n",
      "23.47590711787987\n",
      "24.362840619820474\n",
      "41.54241766116798\n",
      "45.911471592173456\n",
      "39.51389263480573\n",
      "34.34544336968479\n",
      "32.5693869550246\n",
      "39.520214000306\n",
      "45.9386732256965\n",
      "34.430170061160396\n",
      "37.583139403318654\n",
      "45.25339154275412\n",
      "20.233578584592927\n",
      "32.74601409499174\n",
      "43.17457053466349\n",
      "36.02647299715706\n",
      "33.28659767443441\n",
      "34.827446362583544\n",
      "27.566923488205767\n",
      "41.557363766635795\n",
      "34.95685843905031\n",
      "37.601969514724004\n",
      "50.14766113720053\n",
      "21.98091017691341\n",
      "35.035707097634976\n",
      "32.027686917531966\n",
      "35.820760411753795\n",
      "40.69491211758138\n",
      "34.208936664960405\n",
      "25.85078293559685\n",
      "34.24289428340452\n",
      "42.322849803102734\n",
      "33.01828216740038\n",
      "32.05327211875594\n",
      "29.488881706071\n",
      "42.44956712987464\n",
      "32.44948484033832\n",
      "33.257194766193074\n",
      "49.57562641447842\n",
      "42.68342801301069\n",
      "34.1818300105158\n",
      "33.43191975422914\n",
      "57.06970900665727\n",
      "epoch: 3\n",
      "36.0144469917922\n",
      "45.95843916430287\n",
      "32.750346641922256\n",
      "25.50905515049705\n",
      "41.32524713776042\n",
      "45.659868808199356\n",
      "45.923528670660744\n",
      "42.715475372188976\n",
      "50.651557081566814\n",
      "31.310193577255294\n",
      "12.56566159522679\n",
      "41.01289447789807\n",
      "37.04678928475744\n",
      "40.31454273674534\n",
      "41.48290651216248\n",
      "29.637580726352645\n",
      "32.903941537590384\n",
      "29.044908979776235\n",
      "29.111808828232387\n",
      "39.7847891629981\n",
      "31.51728237199632\n",
      "79.5593501680525\n",
      "26.451173647918058\n",
      "23.970115830827424\n",
      "36.493459792605385\n",
      "28.803921848411058\n",
      "23.79658163449267\n",
      "32.195071879940606\n",
      "32.72176647261258\n",
      "44.02201948844353\n",
      "31.58250211209146\n",
      "28.751820790876547\n",
      "47.35260613974215\n",
      "28.554575139382248\n",
      "32.495535111002816\n",
      "41.47720984443174\n",
      "26.380779933403225\n",
      "26.888469122549285\n",
      "35.45184287633667\n",
      "27.37745215439759\n",
      "30.33446564173998\n",
      "35.83576882863872\n",
      "21.787511881888705\n",
      "40.826668535843595\n",
      "35.218365958948866\n",
      "45.44365272876995\n"
     ]
    },
    {
     "name": "stdout",
     "output_type": "stream",
     "text": [
      "39.67902929374917\n",
      "29.609676784479348\n",
      "23.7858903859693\n",
      "49.0773806545478\n",
      "31.014968967666764\n",
      "38.531333199513135\n",
      "37.714529307381085\n",
      "31.1685220560169\n",
      "27.634130999465036\n",
      "40.6982596872817\n",
      "40.32085751972932\n",
      "22.856784824181744\n",
      "23.603583705732813\n",
      "40.46940364127104\n",
      "44.663056865419215\n",
      "38.578339140417945\n",
      "33.090724072363756\n",
      "31.853201051530316\n",
      "38.48156111975286\n",
      "44.731751509783216\n",
      "33.570175546127594\n",
      "36.661913201404715\n",
      "43.99781144020545\n",
      "19.493049813937123\n",
      "32.045770819372116\n",
      "41.95875980231932\n",
      "35.01712880037733\n",
      "32.40515864794305\n",
      "33.97875498798993\n",
      "27.02717342972292\n",
      "40.37580284454704\n",
      "33.97506224061642\n",
      "36.776859006204695\n",
      "48.88021666853027\n",
      "21.368530414279714\n",
      "34.124860485579724\n",
      "31.39808936552112\n",
      "34.62773720274447\n",
      "39.693287450047144\n",
      "33.227136867197615\n",
      "25.211874789430087\n",
      "33.46347708292996\n",
      "41.23765644692778\n",
      "32.08141288733767\n",
      "31.264369850177346\n",
      "28.59400159231752\n",
      "41.410823875430076\n",
      "31.33145089721577\n",
      "32.40951139814798\n",
      "48.58873315492931\n",
      "41.32246222575102\n",
      "33.28566698516838\n",
      "32.530188828299494\n",
      "55.560290897434705\n",
      "epoch: 4\n"
     ]
    },
    {
     "data": {
      "text/plain": [
       "[<matplotlib.lines.Line2D at 0x14b19eda0>]"
      ]
     },
     "execution_count": 252,
     "metadata": {},
     "output_type": "execute_result"
    },
    {
     "data": {
      "image/png": "[encoded data removed]",
      "text/plain": [
       "<Figure size 640x480 with 1 Axes>"
      ]
     },
     "metadata": {},
     "output_type": "display_data"
    }
   ],
   "source": [
    "# for part 2 we need to write a class for the  L2 loss\n",
    "class L2_loss():\n",
    "    def ___init__(self):\n",
    "        self.C0_output=None\n",
    "        self.C_output=None\n",
    "    \n",
    "    def forward(self, C0_output,C_output):\n",
    "        self.C0_output=C0_output\n",
    "        self.C_output=C_output\n",
    "        loss=np.sqrt(np.sum((C_output-C0_output)**2))\n",
    "        \n",
    "        return loss\n",
    "    \n",
    "    def backward(self,output_grad=1):\n",
    "        \n",
    "        grad=2*(self.C_output-self.C0_output)\n",
    "        \n",
    "        \n",
    "        return grad\n",
    "\n",
    "\n",
    "max_epochs=5\n",
    "model=Convolution_Layer((3,32,32),(3,5,5),20)\n",
    "L2=L2_loss()\n",
    "learning_rate=0.000001\n",
    "temp=[]\n",
    "for epoch in range(max_epochs):\n",
    "    \n",
    "    for i in range(100):\n",
    "        img=data_batch_1[b'data'][i].reshape(3,32,32)/255\n",
    "        out=model.forward(img)\n",
    "        loss=L2.forward(C0_out[i],out)\n",
    "        print(loss/1000)\n",
    "        temp.append(loss)\n",
    "        \n",
    "        out_grad=L2.backward(loss)\n",
    "        model.backward(out_grad,learning_rate)\n",
    "    \n",
    "    print(f\"epoch: {epoch}\")\n",
    "\n",
    "plt.plot(temp)\n",
    "    \n",
    "    \n",
    "  "
   ]
  },
  {
   "cell_type": "code",
   "execution_count": 253,
   "metadata": {},
   "outputs": [
    {
     "name": "stdout",
     "output_type": "stream",
     "text": [
      "(100, 20, 28, 28)\n"
     ]
    }
   ],
   "source": [
    "C_out_final=[]\n",
    "for i in range(100):\n",
    "    img=data_batch_1[b'data'][i].reshape(3,32,32)/255\n",
    "    out=model.forward(img)\n",
    "    C_out_final.append(out)\n",
    "C_out_final=np.array(res)\n",
    "print(C_out_final.shape)"
   ]
  },
  {
   "cell_type": "code",
   "execution_count": null,
   "metadata": {},
   "outputs": [],
   "source": []
  }
 ],
 "metadata": {
  "anaconda-cloud": {},
  "colab": {
   "collapsed_sections": [],
   "name": "DLCV_Assignment_2-edit.ipynb",
   "provenance": []
  },
  "interpreter": {
   "hash": "6945496b114ae6c8dbcad4f53e4fc084fdd8255c08c862c02a1152642bece680"
  },
  "kernelspec": {
   "display_name": "Python 3 (ipykernel)",
   "language": "python",
   "name": "python3"
  },
  "language_info": {
   "codemirror_mode": {
    "name": "ipython",
    "version": 3
   },
   "file_extension": ".py",
   "mimetype": "text/x-python",
   "name": "python",
   "nbconvert_exporter": "python",
   "pygments_lexer": "ipython3",
   "version": "3.10.4"
  }
 },
 "nbformat": 4,
 "nbformat_minor": 1
}
